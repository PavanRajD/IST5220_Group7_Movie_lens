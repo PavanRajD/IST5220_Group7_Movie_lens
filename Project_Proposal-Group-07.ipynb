{
 "cells": [
  {
   "cell_type": "markdown",
   "id": "be6a5639",
   "metadata": {},
   "source": [
    "<h1 align = \"center\"> GROUP 7 PROJECT PROPOSAL DOCUMENT</h1>\n",
    "<h3 align=\"center\">9/26/2022</h3>\n",
    "<p><b>Team:</b> Pavan Raj Dasari, Irshaad Shaik, Ramya Bikkina, Maxwell Wong</p>"
   ]
  },
  {
   "cell_type": "markdown",
   "id": "270d0c36",
   "metadata": {},
   "source": [
    "<h2> Introduction </h2>"
   ]
  },
  {
   "cell_type": "markdown",
   "id": "5bb7961b",
   "metadata": {},
   "source": [
    "<p>    The movie industry is experiencing a boom in recent years. A huge number of movies are released every year. The release of each movie, especially when you aren't around to see it, can be difficult to notice. Our business is to analyse past movies and to help users to find movies that interest him. Depending on the ratings of other users, one can infer exactly how good a movie is based upon the other users' opinions. This requires the creation of a proprietary prediction system based on movies released in the past that have created a lasting impression on users and their ratings.</p>"
   ]
  },
  {
   "cell_type": "markdown",
   "id": "7deb5644",
   "metadata": {},
   "source": [
    "<h2> Literature Review </h2>"
   ]
  },
  {
   "cell_type": "markdown",
   "id": "0e3c0939",
   "metadata": {},
   "source": [
    "<p>MovieLens is an active research platform that has hosted many experiments since it was launched in 1997, and these datasets are primarily a result of member activity in the system. this in regards explains about the history of the movielens dataset[1]. There has been previous research done on similar scenarios. It is very common for recommender systems to use collaborative filtering (CF) in order to provide personalized recommendations to end users. The User-Item Rating Matrix is applied to CF to identify clusters of similar users. The similarity measurement method is generally used to identify this cluster of users.[2] In spite of its efficiency, collaborative filtering (CF) suffers from the well-known cold start problem, which makes it challenging to determine the preferences of new users. In order to solve this problem, we can use the Ask To Rate technique. This technique involves showing a new user some items and asking him or her to rate them. A kNN algorithm is typically used in Ask To Rate technique to select items.[3]</p>"
   ]
  },
  {
   "cell_type": "markdown",
   "id": "751e5743",
   "metadata": {},
   "source": [
    "<h2> Research Questions </h2>"
   ]
  },
  {
   "cell_type": "markdown",
   "id": "9c9e6397",
   "metadata": {},
   "source": [
    "<p>\n",
    "<ul>\n",
    "<li>User assessment if a user rating is biased by a genre?</li>\n",
    "<li>Classify a movie based on rating and genome scores if its good or bad movie?</li>\n",
    "<li>What is the most common Genre?</li>\n",
    "<li>Finding the Average Rating given for each Movie by different Users?</li>\n",
    "<li>Predicting what would be the rating with specific Genres will get?</li>\n",
    "<li>How movie genre impacted over the years on the basis of user acceptance regarding the movie?</li>\n",
    "<li>More over what are the changes came to play while passing over the years and how users are liking the movies now over the past movies.</li>\n",
    "</ul>\n",
    "\n",
    "Over these problems we can predict and produce top 5 movies in the genre.</p>"
   ]
  },
  {
   "cell_type": "markdown",
   "id": "fb7df004",
   "metadata": {},
   "source": [
    "<h2> Data </h2>"
   ]
  },
  {
   "cell_type": "markdown",
   "id": "a76dc3b6",
   "metadata": {},
   "source": [
    "For the mentioned project we are using “MovieLens” dataset, where it will contains three main CSV files such as movies.CSV, ratings.CSV, links.CSV and tags.CSV.\n",
    "\n",
    "**movies.CSV** contains three columns **movieId, Title and genres**. Whereas Title contains manually entered title along with the year of release in the brackets and genres contains Comma separated valued of Genres are a pipe-separated list, and are selected from the following: Action, Adventure, Animation, Children's, Comedy, Crime, Documentary, Drama, Fantasy, Film-Noir, Horror, Musical, Mystery, Romance, Sci-Fi, Thriller, War, Western or no genres listed.\n",
    "\n",
    "**ratings.CSV** contains four columns **userId, movieId, rating, timestamp**. Ratings are made on a 5-star scale, with half-star increments (0.5 stars - 5.0 stars) and Timestamps represent seconds since midnight Coordinated Universal Time (UTC) of January 1, 1970.\n",
    "\n",
    "**link.CSV** contains three columns **movieId, imdbId, tmbdId**.\n",
    "\n",
    "**tags.CSV** contains four columns **userId, movieId, tag, timestamp**. Tags are user-generated metadata about movies. Each tag is typically a short phrase. The meaning, value, and purpose of a particular tag is determined by each user. Timestamps represent seconds since midnight UTC of January 1, 1970.\n",
    "\n",
    "On the basis of this dataset, human emotions have been analysed over the years on the movie. In the 80s, action movies were more popular, but in recent years, romance has taken over. Similar movies which were beloved in the past have become disasters in recent years. In what ways are these movies impacting the viewers, and how are they influencing them. We will use this dataset to analyse rating over different genre movies over the years. and will predict how this like towards a genre is changing over time. To conduct analysis and address research questions, the selected dataset includes all of the necessary data."
   ]
  },
  {
   "cell_type": "markdown",
   "id": "fa844920",
   "metadata": {},
   "source": [
    "<h4>References</h4>"
   ]
  },
  {
   "cell_type": "markdown",
   "id": "d60e4b4e",
   "metadata": {},
   "source": [
    "<ul><li>[1] Maxwell Harper and Joseph A. Konstan. 2015. \"The MovieLens Datasets: History and Context\". ACM Transactions on Interactive Intelligent Systems (TiiS).</li>\n",
    "    <li>[2] Raghav Pavan Karumur, Tien T. Nguyen, Joseph A. Konstan \"Exploring the Value of Personality in Predicting Rating Behaviors: A Study of Category Preferences on MovieLens\" 2016. the 10th ACM Conference.</li>\n",
    "    <li>[3] M. Bahadorpour, B. S. Neysiani, and M. N. Shahraki, “Determining Optimal Number of Neighbors in Item-based kNN Collaborative Filtering Algorithm for Learning Preferences of New Users,” Journal of Telecommunication, Electronic and Computer Engineering (JTEC), vol. 9, no. 3, pp.163-167, 2017.</li>\n",
    "</ul>"
   ]
  }
 ],
 "metadata": {
  "kernelspec": {
   "display_name": "Python 3 (ipykernel)",
   "language": "python",
   "name": "python3"
  },
  "language_info": {
   "codemirror_mode": {
    "name": "ipython",
    "version": 3
   },
   "file_extension": ".py",
   "mimetype": "text/x-python",
   "name": "python",
   "nbconvert_exporter": "python",
   "pygments_lexer": "ipython3",
   "version": "3.10.6"
  }
 },
 "nbformat": 4,
 "nbformat_minor": 5
}
