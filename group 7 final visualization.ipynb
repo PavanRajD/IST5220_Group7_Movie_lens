{
 "cells": [
  {
   "cell_type": "markdown",
   "id": "d343e6cc",
   "metadata": {},
   "source": [
    "<h1 align=\"center\"> Group 7 Analysis & visualization </h1>\n",
    "\n",
    "<h3 align=\"center\">10/20/2022</h3>"
   ]
  },
  {
   "cell_type": "markdown",
   "id": "bd69d523",
   "metadata": {},
   "source": [
    "#### Importing python libraries for analysis and visualization"
   ]
  },
  {
   "cell_type": "code",
   "execution_count": null,
   "id": "d9263e65",
   "metadata": {},
   "outputs": [],
   "source": [
    "#data analysis libraries \n",
    "import numpy as np\n",
    "import pandas as pd\n",
    "import re\n",
    "\n",
    "#visualization libraries\n",
    "import matplotlib.pyplot as plt\n",
    "import plotly.express as px\n",
    "import seaborn as sns\n",
    "%matplotlib inline\n",
    "#ignore warnings\n",
    "import warnings\n",
    "warnings.filterwarnings('ignore')"
   ]
  },
  {
   "cell_type": "code",
   "execution_count": null,
   "id": "8254e2f9",
   "metadata": {},
   "outputs": [],
   "source": [
    "#import train and test CSV files\n",
    "movie = pd.read_csv(\"./DataSets/movies.csv\")\n",
    "ratings = pd.read_csv(\"./DataSets/ratings.csv\")\n",
    "links = pd.read_csv(\"./DataSets/links.csv\")"
   ]
  },
  {
   "cell_type": "code",
   "execution_count": null,
   "id": "ac4e01ac",
   "metadata": {},
   "outputs": [],
   "source": [
    "#take a look at the training data\n",
    "print(movie.shape)\n",
    "print(ratings.shape)\n",
    "print(links.shape)"
   ]
  },
  {
   "cell_type": "code",
   "execution_count": null,
   "id": "8fd6fe7b",
   "metadata": {},
   "outputs": [],
   "source": [
    "print(movie.head())\n",
    "print(links.head())\n",
    "print(ratings.head())"
   ]
  },
  {
   "cell_type": "code",
   "execution_count": null,
   "id": "65260057",
   "metadata": {},
   "outputs": [],
   "source": [
    "#get a list of the features within the dataset\n",
    "print(\"Movie : \", movie.columns,end=\"\\n\\n\")\n",
    "print(\"Rating : \", ratings.columns,end=\"\\n\\n\")\n",
    "print(\"Links : \", links.columns,end=\"\\n\\n\")"
   ]
  },
  {
   "cell_type": "code",
   "execution_count": null,
   "id": "c6ab837d",
   "metadata": {},
   "outputs": [],
   "source": [
    "movie.info()\n",
    "ratings.info()\n",
    "links.info()"
   ]
  },
  {
   "cell_type": "code",
   "execution_count": null,
   "id": "13d2e3fe",
   "metadata": {},
   "outputs": [],
   "source": [
    "# Droping the timestamp column from ratings and tags file\n",
    "ratings.drop(columns='timestamp',inplace=True)"
   ]
  },
  {
   "cell_type": "code",
   "execution_count": null,
   "id": "eea30bdd",
   "metadata": {},
   "outputs": [],
   "source": [
    "movies_df_exploded = movie[:]\n",
    "movies_df_exploded['genres'] = movies_df_exploded['genres'].apply(lambda x: x.split('|'))\n",
    "movies_df_exploded = movies_df_exploded.explode('genres')\n",
    "px.histogram(movies_df_exploded, x='genres', height=400, title='Movie count by genre').update_xaxes(categoryorder=\"total descending\")"
   ]
  },
  {
   "cell_type": "code",
   "execution_count": null,
   "id": "018d7d0b",
   "metadata": {},
   "outputs": [],
   "source": [
    "movie.head()"
   ]
  },
  {
   "cell_type": "code",
   "execution_count": null,
   "id": "93837611",
   "metadata": {},
   "outputs": [],
   "source": [
    "#Extracting the year from the Title\n",
    "movie['Year'] = movie['title'].str.extract('.*\\((.*)\\).*',expand = False)\n",
    "px.histogram(movie, x='Year', height=400, title='Movie count by year').update_xaxes(categoryorder=\"total descending\")"
   ]
  },
  {
   "cell_type": "code",
   "execution_count": null,
   "id": "b59f7a8a",
   "metadata": {},
   "outputs": [],
   "source": [
    "#Ploting a Graph with No.of Movies each Year corresponding to its Year\n",
    "plt.plot(movie.groupby('Year').title.count())\n",
    "plt.show()\n",
    "a=movie.groupby('Year').title.count()\n",
    "print('Max No.of Movies Relesed =',a.max())\n",
    "for i in a.index:\n",
    "    if a[i] == a.max():\n",
    "        print('Year =',i)\n",
    "a.describe()"
   ]
  },
  {
   "cell_type": "code",
   "execution_count": null,
   "id": "a01cf5aa",
   "metadata": {},
   "outputs": [],
   "source": [
    "genre_dat = movie['genres'].str.get_dummies('|')\n",
    "genre_dat"
   ]
  },
  {
   "cell_type": "code",
   "execution_count": null,
   "id": "d07d2e11",
   "metadata": {},
   "outputs": [],
   "source": [
    "mov_dat2 = pd.concat([movie, genre_dat], axis=1).drop(['title','genres'], axis=1)\n",
    "mov_dat2"
   ]
  },
  {
   "cell_type": "code",
   "execution_count": null,
   "id": "edfdba43",
   "metadata": {},
   "outputs": [],
   "source": [
    "x={}\n",
    "for i in mov_dat2.columns[4:23]:\n",
    "    x[i]=mov_dat2[i].value_counts()[1]\n",
    "    print(\"{}    \\t\\t\\t\\t{}\".format(i,x[i]))\n",
    "\n",
    "plt.bar(height=x.values(),x=x.keys(), )\n",
    "plt.xticks(rotation=70)\n",
    "plt.show()"
   ]
  },
  {
   "cell_type": "code",
   "execution_count": null,
   "id": "abe28603",
   "metadata": {},
   "outputs": [],
   "source": [
    "#Add a Column `rating` in movie DF and assign them with the Mean Movie Rating for that Movie.\n",
    "x=ratings.groupby('movieId').rating.mean()\n",
    "movie = pd.merge(movie, x, how='outer', on='movieId')\n",
    "movie['rating'].fillna('0',inplace=True)"
   ]
  },
  {
   "cell_type": "code",
   "execution_count": null,
   "id": "02e60228",
   "metadata": {},
   "outputs": [],
   "source": [
    "# Now Lets group all the ratings with respect to movieId and count the no of Users\n",
    "x = ratings.groupby('movieId',as_index=False).userId.count()\n",
    "x.sort_values('userId',ascending=False,inplace=True)\n",
    "y = pd.merge(movie,  x, how='outer',on='movieId')\n",
    "y.sort_values(['userId','rating'],ascending=False)"
   ]
  },
  {
   "cell_type": "markdown",
   "id": "ee506a8e",
   "metadata": {},
   "source": [
    "From the above table we can say that Forest Gump (1994) has the Highest no.of. Ratings with 4.16 Stars by 329 Users as average.\n",
    "\n",
    "Followed by Shawshank Redemption, The (1994) with 317 User Ratings and 4.42 Stars as average and so on.\n"
   ]
  },
  {
   "cell_type": "code",
   "execution_count": null,
   "id": "546a4f45",
   "metadata": {},
   "outputs": [],
   "source": [
    "#find the user with highest no.of. movie ratings and that users mean rating. \n",
    "x = ratings.groupby('userId',as_index=False).movieId.count()\n",
    "y = ratings.groupby('userId',as_index=False).rating.mean()\n",
    "x = pd.merge(x,y,how='outer',on='userId')\n",
    "x.describe()"
   ]
  },
  {
   "cell_type": "markdown",
   "id": "3c72291e",
   "metadata": {},
   "source": [
    "From above we found that userId - 414 has given the Highest no.of Ratings with 2698 and an Average of 3.39 Stars followed by userId-599 with 2478 Ratings and an Average of 2.64 Stars and so on …"
   ]
  },
  {
   "cell_type": "code",
   "execution_count": null,
   "id": "4898a835",
   "metadata": {},
   "outputs": [],
   "source": [
    "x.sort_values('movieId',ascending=False)"
   ]
  },
  {
   "cell_type": "code",
   "execution_count": null,
   "id": "19cb35dd",
   "metadata": {},
   "outputs": [],
   "source": [
    "movies_df_exploded.head()"
   ]
  },
  {
   "cell_type": "code",
   "execution_count": null,
   "id": "e6a35153",
   "metadata": {},
   "outputs": [],
   "source": [
    "rating_by_genre_df = ratings.join(movies_df_exploded, on='movieId').groupby('genres').agg({'rating': ['mean', 'count']}).sort_values(('rating', 'mean')).reset_index()\n",
    "rating_by_genre_df.columns = ['_'.join(col).strip() for col in rating_by_genre_df.columns.values]\n",
    "px.bar(rating_by_genre_df, x='genre_', y='rating_mean', height=300)"
   ]
  },
  {
   "cell_type": "code",
   "execution_count": null,
   "id": "ea3134b5",
   "metadata": {},
   "outputs": [],
   "source": [
    "# store full dataframe \n",
    "movie.drop(columns='rating',inplace=True)\n",
    "movie_df = pd.concat([movie, genre_dat], axis=1).drop(['genres'], axis=1)\n",
    "full_df = pd.merge(movie_df, ratings, how=\"left\", on=\"movieId\")\n",
    "full_df.head()"
   ]
  },
  {
   "cell_type": "code",
   "execution_count": null,
   "id": "dd6ab2f2",
   "metadata": {},
   "outputs": [],
   "source": [
    "# return number of rows associated to each title\n",
    "top_ten_movies = full_df.groupby(\"title\").size().sort_values(ascending=False)[:10]\n",
    "\n",
    "# plot the counts\n",
    "plt.figure(figsize=(12, 5))\n",
    "plt.barh(y= top_ten_movies.index,\n",
    "         width= top_ten_movies.values)\n",
    "plt.title(\"10 Most Rated Movies in the Data\", fontsize=16)\n",
    "plt.ylabel(\"Moive\", fontsize=14)\n",
    "plt.xlabel(\"Count\", fontsize=14)\n",
    "plt.show()"
   ]
  },
  {
   "cell_type": "code",
   "execution_count": null,
   "id": "3049edc3",
   "metadata": {},
   "outputs": [],
   "source": [
    "movies_rated = ratings.groupby(\"userId\").size().sort_values(ascending=False)\n",
    "print(f\"Max movies rated by one user: {max(movies_rated)}\\nMin movies rated by one user: {min(movies_rated)}\")\n",
    "ratings.userId.value_counts().plot.box(figsize=(20, 40))\n",
    "plt.title(\"Number of Movies rated by a Single user\", fontsize=16)\n",
    "plt.show()"
   ]
  },
  {
   "cell_type": "markdown",
   "id": "4f4bc16b",
   "metadata": {},
   "source": [
    "The maximum number of movies rated by a single user in the dataset is 737 — whoever that is, is a very loyal movie watcher and rater — and the median number of movies rated by someone is 70. There are plenty of outliers that have rated more than 320 movies which is what I am approximating to be the extreme value from the plot above."
   ]
  },
  {
   "cell_type": "code",
   "execution_count": null,
   "id": "07758306",
   "metadata": {},
   "outputs": [],
   "source": [
    "print(\"Movie : \", full_df.columns,end=\"\\n\\n\")"
   ]
  },
  {
   "cell_type": "code",
   "execution_count": null,
   "id": "2c55a4f7",
   "metadata": {},
   "outputs": [],
   "source": [
    "genres= ['Action', 'Adventure',\n",
    "       'Animation', 'Children', 'Comedy', 'Crime', 'Documentary', 'Drama',\n",
    "       'Fantasy', 'Film-Noir', 'Horror', 'IMAX', 'Musical', 'Mystery',\n",
    "       'Romance', 'Sci-Fi', 'Thriller', 'War', 'Western']\n",
    "\n",
    "# https://github.com/HarilalOP/movielens-data-exploration/blob/master/src/main/code/exploratory_analysis.ipynb\n",
    "df_temp = full_df[['movieId','rating']].groupby('movieId').mean()\n",
    "# Histogram of all ratings\n",
    "df_temp.hist(bins=25, grid=False, edgecolor='b', density=True, label ='Overall', figsize=(15,8))\n",
    "# KDE plot per genre\n",
    "for genre in genres:\n",
    "    df_temp = full_df[full_df[genre]==True][['movieId','rating']].groupby('movieId').mean()\n",
    "    df_temp.rating.plot(grid=True, alpha=0.9, kind='kde', label=genre)\n",
    "plt.legend()\n",
    "plt.xlim(0,5)\n",
    "plt.xlabel('Rating')\n",
    "plt.title('Rating Density plot')\n",
    "plt.show()"
   ]
  },
  {
   "cell_type": "markdown",
   "id": "d1bf1b5d",
   "metadata": {},
   "source": [
    "The plot is predominantly left-skewed for most genres — This could possibly by down to users being more willing to rate movies they enjoyed, since people do not really watch a movie if they aren’t enjoying it. We would have to conduct some research on whether this is the case in our instance.\n",
    "\n",
    "Ok, the last plot was more complicated. We can simplify things again by looking more specifically at the users."
   ]
  },
  {
   "cell_type": "code",
   "execution_count": null,
   "id": "89234119",
   "metadata": {},
   "outputs": [],
   "source": [
    "genres_unique = pd.DataFrame(movie.genres.str.split('|').tolist()).stack().unique()\n",
    "genres_unique = pd.DataFrame(genres_unique, columns=['genre']) # Format into DataFrame to store later\n",
    "movie = movie.join(movie.genres.str.get_dummies().astype(bool))\n",
    "movie.drop('genres', inplace=True, axis=1)"
   ]
  },
  {
   "cell_type": "markdown",
   "id": "d5db6cad",
   "metadata": {},
   "source": [
    "## WEB SCRAPING"
   ]
  },
  {
   "cell_type": "code",
   "execution_count": null,
   "id": "802eaee2",
   "metadata": {},
   "outputs": [],
   "source": [
    "# Import required modules\n",
    "\n",
    "import pandas as pd\n",
    "import numpy as np\n",
    "import requests\n",
    "from bs4 import BeautifulSoup"
   ]
  },
  {
   "cell_type": "code",
   "execution_count": null,
   "id": "e151840e",
   "metadata": {},
   "outputs": [],
   "source": [
    "# Use back slash to break a statement into multiple lines\n",
    "\n",
    "url_temp = 'https://www.themoviedb.org/movie/{movieId}/'\n",
    "movie_web = pd.DataFrame({'movieId': movie.movieId})\n",
    "# Add PageURL column\n",
    "movie_web['PageURL'] = [url_temp.format(movieId = movie_url.movieId[i]) for i in range(0,len(movie_url))]\n",
    "movie_web.head()"
   ]
  },
  {
   "cell_type": "code",
   "execution_count": null,
   "id": "a642e40d",
   "metadata": {},
   "outputs": [],
   "source": [
    "# Create a new column to store HTML files\n",
    "\n",
    "movie_web['HTML'] = [requests.get(movie_web.loc[i,'PageURL']).content for i in range(0,len(movie_web))]\n",
    "\n",
    "movie_web"
   ]
  },
  {
   "cell_type": "code",
   "execution_count": null,
   "id": "e4c1dc3c",
   "metadata": {},
   "outputs": [],
   "source": [
    "movie_web['Content_score'] = [BeautifulSoup(movie_web.loc[i,'HTML'],'html.parser')\n",
    "                              .find(lambda tag: tag.name == 'div' and tag.get('class') == ['content_score'])\n",
    "                              .find(lambda tag: tag.name == 'p').text for i in range(0,len(movie_web))]"
   ]
  },
  {
   "cell_type": "code",
   "execution_count": null,
   "id": "603ed1c4",
   "metadata": {},
   "outputs": [],
   "source": []
  },
  {
   "cell_type": "code",
   "execution_count": null,
   "id": "a8780a35",
   "metadata": {},
   "outputs": [],
   "source": []
  },
  {
   "cell_type": "code",
   "execution_count": null,
   "id": "cb18afd9",
   "metadata": {},
   "outputs": [],
   "source": []
  }
 ],
 "metadata": {
  "kernelspec": {
   "display_name": "Python 3 (ipykernel)",
   "language": "python",
   "name": "python3"
  },
  "language_info": {
   "codemirror_mode": {
    "name": "ipython",
    "version": 3
   },
   "file_extension": ".py",
   "mimetype": "text/x-python",
   "name": "python",
   "nbconvert_exporter": "python",
   "pygments_lexer": "ipython3",
   "version": "3.10.6"
  }
 },
 "nbformat": 4,
 "nbformat_minor": 5
}
